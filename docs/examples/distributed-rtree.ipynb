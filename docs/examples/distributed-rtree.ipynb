{
 "cells": [
  {
   "cell_type": "code",
   "execution_count": null,
   "id": "0",
   "metadata": {},
   "outputs": [],
   "source": [
    "import cf_xarray  # noqa: F401\n",
    "import dask\n",
    "import shapely\n",
    "import xarray as xr\n",
    "\n",
    "import grid_indexing\n",
    "from grid_indexing.distributed import DistributedRTree"
   ]
  },
  {
   "cell_type": "code",
   "execution_count": null,
   "id": "1",
   "metadata": {},
   "outputs": [],
   "source": [
    "from distributed import Client\n",
    "\n",
    "client = Client()\n",
    "client"
   ]
  },
  {
   "cell_type": "code",
   "execution_count": null,
   "id": "2",
   "metadata": {},
   "outputs": [],
   "source": [
    "def bounds_to_polygons(lon, lat):\n",
    "    vertices = xr.concat([lon, lat], dim=\"coords\")\n",
    "\n",
    "    return xr.apply_ufunc(\n",
    "        shapely.polygons,\n",
    "        vertices.chunk({\"coords\": -1}),\n",
    "        input_core_dims=[[\"bounds\", \"coords\"]],\n",
    "        output_core_dims=[[]],\n",
    "        dask=\"parallelized\",\n",
    "        keep_attrs=False,\n",
    "        output_dtypes=[object],\n",
    "    )"
   ]
  },
  {
   "cell_type": "code",
   "execution_count": null,
   "id": "3",
   "metadata": {},
   "outputs": [],
   "source": [
    "source_grid = (\n",
    "    grid_indexing.tutorial.generate_grid(\"2d-curvilinear\", resolution=\"small\")\n",
    "    .cf.add_bounds([\"latitude\", \"longitude\"])\n",
    "    .chunk({\"x\": 60, \"y\": 30})\n",
    "    .assign_coords(\n",
    "        geometry=lambda ds: bounds_to_polygons(ds[\"lon_bounds\"], ds[\"lat_bounds\"])\n",
    "    )\n",
    ")\n",
    "source_grid"
   ]
  },
  {
   "cell_type": "markdown",
   "id": "4",
   "metadata": {},
   "source": [
    "### procedure\n",
    "\n",
    "1. creation of the distributed rtree\n",
    "   - values:\n",
    "        - the cell boundaries as geometries\n",
    "        - and from that, the chunk boundaries\n",
    "    - create and index from the chunk boundaries and save it\n",
    "    - for each chunk of cell boundaries, create an index (as a delayed function? needs to pickle for that, though)\n",
    "2. query the index\n",
    "    - extract the chunk boundaries from the input\n",
    "    - query the chunk boundary index to figure out which chunks a target chunk interacts with\n",
    "    - query the interacting chunk's index\n",
    "    - assemble the result as a sparse matrix\n",
    "\n",
    "### issues\n",
    "\n",
    "- for dask to work, the trees have to be pickle-able\n",
    "- going from a grid of tasks to a concatenated sparse matrix may be tricky"
   ]
  },
  {
   "cell_type": "code",
   "execution_count": null,
   "id": "5",
   "metadata": {},
   "outputs": [],
   "source": [
    "target_grid = (\n",
    "    grid_indexing.tutorial.generate_grid(\"2d-rectilinear\", \"small\")\n",
    "    .cf.add_bounds([\"latitude\", \"longitude\"])\n",
    "    .chunk({\"y\": 30, \"x\": 60})\n",
    "    .assign_coords(\n",
    "        geometry=lambda ds: bounds_to_polygons(ds[\"lon_bounds\"], ds[\"lat_bounds\"])\n",
    "    )\n",
    ")\n",
    "target_grid"
   ]
  },
  {
   "cell_type": "code",
   "execution_count": null,
   "id": "6",
   "metadata": {},
   "outputs": [],
   "source": [
    "dtree = DistributedRTree(source_grid)\n",
    "dtree"
   ]
  },
  {
   "cell_type": "code",
   "execution_count": null,
   "id": "7",
   "metadata": {},
   "outputs": [],
   "source": [
    "result = dtree.query_overlap(target_grid)\n",
    "result"
   ]
  },
  {
   "cell_type": "code",
   "execution_count": null,
   "id": "8",
   "metadata": {},
   "outputs": [],
   "source": [
    "%%time\n",
    "dask.compute(result)[0]"
   ]
  },
  {
   "cell_type": "code",
   "execution_count": null,
   "id": "9",
   "metadata": {},
   "outputs": [],
   "source": []
  }
 ],
 "metadata": {
  "language_info": {
   "codemirror_mode": {
    "name": "ipython",
    "version": 3
   },
   "file_extension": ".py",
   "mimetype": "text/x-python",
   "name": "python",
   "nbconvert_exporter": "python",
   "pygments_lexer": "ipython3",
   "version": "3.12.8"
  }
 },
 "nbformat": 4,
 "nbformat_minor": 5
}
