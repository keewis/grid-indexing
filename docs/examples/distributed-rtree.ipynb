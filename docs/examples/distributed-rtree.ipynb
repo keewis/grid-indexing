{
 "cells": [
  {
   "cell_type": "code",
   "execution_count": null,
   "id": "0",
   "metadata": {},
   "outputs": [],
   "source": [
    "import cf_xarray  # noqa: F401\n",
    "import dask\n",
    "import geoarrow.rust.core as geoarrow\n",
    "import lonboard\n",
    "import numpy as np\n",
    "import xarray as xr\n",
    "\n",
    "import grid_indexing\n",
    "from grid_indexing.distributed import DistributedRTree\n",
    "\n",
    "xr.set_options(keep_attrs=True);"
   ]
  },
  {
   "cell_type": "code",
   "execution_count": null,
   "id": "1",
   "metadata": {},
   "outputs": [],
   "source": [
    "def _visualize_grid(geoms, color, alpha=0.8, **layer_kwargs):\n",
    "    from arro3.core import Array, Schema, Table\n",
    "\n",
    "    colors = {\n",
    "        \"red\": [255, 0, 0],\n",
    "        \"green\": [0, 255, 0],\n",
    "        \"blue\": [0, 0, 255],\n",
    "        \"yellow\": [255, 255, 0],\n",
    "    }\n",
    "\n",
    "    alpha_ = int((1 - alpha) * 255)\n",
    "    color_ = colors[color] + [alpha_]\n",
    "\n",
    "    array = Array.from_arrow(geoms)\n",
    "    arrays = {\"geometry\": array, \"value\": Array.from_numpy(np.arange(len(array)))}\n",
    "    fields = [array.field.with_name(name) for name, array in arrays.items()]\n",
    "    schema = Schema(fields)\n",
    "\n",
    "    table = Table.from_arrays(list(arrays.values()), schema=schema)\n",
    "\n",
    "    return lonboard.PolygonLayer(\n",
    "        table=table,\n",
    "        filled=True,\n",
    "        get_fill_color=color_,\n",
    "        get_line_color=\"black\",\n",
    "        auto_highlight=True,\n",
    "        wireframe=True,\n",
    "        **layer_kwargs,\n",
    "    )\n",
    "\n",
    "\n",
    "def visualize_result(source_cells, target_cells, result, index):\n",
    "    def mask_geoarrow(arr, mask):\n",
    "        shapely_ = geoarrow.to_shapely(arr)\n",
    "        return geoarrow.from_shapely(shapely_[mask])\n",
    "\n",
    "    target = target_cells[index]\n",
    "    mask = result[index, :]\n",
    "    print(\"cells found:\", np.sum(mask))\n",
    "\n",
    "    source = mask_geoarrow(source_cells, mask)\n",
    "    target_cell = _visualize_grid(target, color=\"blue\", alpha=0.8)\n",
    "    selected = _visualize_grid(source, color=\"yellow\", alpha=0.6)\n",
    "    source_grid = _visualize_grid(source_cells, color=\"red\", alpha=0.9)\n",
    "\n",
    "    return lonboard.Map([source_grid, target_cell, selected])"
   ]
  },
  {
   "cell_type": "code",
   "execution_count": null,
   "id": "2",
   "metadata": {},
   "outputs": [],
   "source": [
    "from distributed import Client\n",
    "\n",
    "client = Client()\n",
    "client"
   ]
  },
  {
   "cell_type": "code",
   "execution_count": null,
   "id": "3",
   "metadata": {},
   "outputs": [],
   "source": [
    "source_grid = (\n",
    "    xr.tutorial.open_dataset(\"air_temperature\")\n",
    "    .assign_coords(lon=lambda ds: (ds[\"lon\"] + 180) % 360 - 180)\n",
    "    .isel(lon=slice(None, -1))\n",
    ")\n",
    "source_geoms = grid_indexing.infer_cell_geometries(source_grid)"
   ]
  },
  {
   "cell_type": "raw",
   "id": "4",
   "metadata": {},
   "source": [
    "layer = _visualize_grid(source_geoms, \"red\", alpha=0.6)\n",
    "lonboard.Map([layer])"
   ]
  },
  {
   "cell_type": "code",
   "execution_count": null,
   "id": "5",
   "metadata": {},
   "outputs": [],
   "source": [
    "min_lon = source_grid[\"lon\"].min().item()\n",
    "max_lon = source_grid[\"lon\"].max().item()\n",
    "min_lat = source_grid[\"lat\"].min().item()\n",
    "max_lat = source_grid[\"lat\"].max().item()\n",
    "\n",
    "lon = np.linspace(min_lon, max_lon, 100)\n",
    "lat = np.linspace(min_lat, max_lat, 50)\n",
    "\n",
    "target_grid = xr.Dataset(\n",
    "    coords={\n",
    "        \"lon\": (\"lon\", lon, {\"standard_name\": \"longitude\"}),\n",
    "        \"lat\": (\"lat\", lat, {\"standard_name\": \"latitude\"}),\n",
    "    }\n",
    ")\n",
    "target_geoms = grid_indexing.infer_cell_geometries(target_grid)"
   ]
  },
  {
   "cell_type": "raw",
   "id": "6",
   "metadata": {},
   "source": [
    "layer = _visualize_grid(target_geoms, \"red\", alpha=0.6)\n",
    "lonboard.Map([layer])"
   ]
  },
  {
   "cell_type": "markdown",
   "id": "7",
   "metadata": {},
   "source": [
    "### procedure\n",
    "\n",
    "1. creation of the distributed rtree\n",
    "   - values:\n",
    "        - the cell boundaries as geometries\n",
    "        - and from that, the chunk boundaries\n",
    "    - create and index from the chunk boundaries and save it\n",
    "    - for each chunk of cell boundaries, create an index (as a delayed function? needs to pickle for that, though)\n",
    "2. query the index\n",
    "    - extract the chunk boundaries from the input\n",
    "    - query the chunk boundary index to figure out which chunks a target chunk interacts with\n",
    "    - query the interacting chunk's index\n",
    "    - assemble the result as a sparse matrix\n",
    "\n",
    "### issues\n",
    "\n",
    "- for dask to work, the trees have to be pickle-able\n",
    "- going from a grid of tasks to a concatenated sparse matrix may be tricky"
   ]
  },
  {
   "cell_type": "code",
   "execution_count": null,
   "id": "8",
   "metadata": {},
   "outputs": [],
   "source": [
    "source_geoms_ = np.reshape(geoarrow.to_shapely(source_geoms), (52, 25))\n",
    "chunked_source_geoms = dask.array.from_array(source_geoms_, chunks=(13, 5))\n",
    "chunked_source_geoms"
   ]
  },
  {
   "cell_type": "code",
   "execution_count": null,
   "id": "9",
   "metadata": {},
   "outputs": [],
   "source": [
    "target_geoms_ = np.reshape(geoarrow.to_shapely(target_geoms), (100, 50))\n",
    "chunked_target_geoms = dask.array.from_array(target_geoms_, chunks=(5, 5))\n",
    "chunked_target_geoms"
   ]
  },
  {
   "cell_type": "code",
   "execution_count": null,
   "id": "10",
   "metadata": {},
   "outputs": [],
   "source": [
    "dtree = DistributedRTree(chunked_source_geoms)\n",
    "dtree"
   ]
  },
  {
   "cell_type": "code",
   "execution_count": null,
   "id": "11",
   "metadata": {},
   "outputs": [],
   "source": [
    "result = dtree.query_overlap(chunked_target_geoms)\n",
    "result"
   ]
  },
  {
   "cell_type": "code",
   "execution_count": null,
   "id": "12",
   "metadata": {},
   "outputs": [],
   "source": [
    "result_ = result.compute().todense().reshape((5000, 1300))"
   ]
  },
  {
   "cell_type": "code",
   "execution_count": null,
   "id": "13",
   "metadata": {},
   "outputs": [],
   "source": [
    "visualize_result(source_geoms, target_geoms, result_, 123)"
   ]
  }
 ],
 "metadata": {
  "language_info": {
   "codemirror_mode": {
    "name": "ipython",
    "version": 3
   },
   "file_extension": ".py",
   "mimetype": "text/x-python",
   "name": "python",
   "nbconvert_exporter": "python",
   "pygments_lexer": "ipython3",
   "version": "3.12.8"
  }
 },
 "nbformat": 4,
 "nbformat_minor": 5
}
