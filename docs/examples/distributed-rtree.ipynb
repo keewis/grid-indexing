{
 "cells": [
  {
   "cell_type": "code",
   "execution_count": null,
   "id": "0",
   "metadata": {},
   "outputs": [],
   "source": [
    "import cf_xarray  # noqa: F401\n",
    "import dask\n",
    "import geoarrow.rust.core as geoarrow\n",
    "import lonboard\n",
    "import numpy as np\n",
    "import xarray as xr\n",
    "\n",
    "import grid_indexing\n",
    "from grid_indexing.distributed import DistributedRTree\n",
    "\n",
    "xr.set_options(keep_attrs=True);"
   ]
  },
  {
   "cell_type": "code",
   "execution_count": null,
   "id": "1",
   "metadata": {},
   "outputs": [],
   "source": [
    "def _visualize_grid(geoms, color, alpha=0.8, **layer_kwargs):\n",
    "    from arro3.core import Array, Schema, Table\n",
    "\n",
    "    colors = {\n",
    "        \"red\": [255, 0, 0],\n",
    "        \"green\": [0, 255, 0],\n",
    "        \"blue\": [0, 0, 255],\n",
    "        \"yellow\": [255, 255, 0],\n",
    "    }\n",
    "\n",
    "    alpha_ = int((1 - alpha) * 255)\n",
    "    color_ = colors[color] + [alpha_]\n",
    "\n",
    "    array = Array.from_arrow(geoms)\n",
    "    arrays = {\"geometry\": array, \"value\": Array.from_numpy(np.arange(len(array)))}\n",
    "    fields = [array.field.with_name(name) for name, array in arrays.items()]\n",
    "    schema = Schema(fields)\n",
    "\n",
    "    table = Table.from_arrays(list(arrays.values()), schema=schema)\n",
    "\n",
    "    return lonboard.PolygonLayer(\n",
    "        table=table,\n",
    "        filled=True,\n",
    "        get_fill_color=color_,\n",
    "        get_line_color=\"black\",\n",
    "        auto_highlight=True,\n",
    "        wireframe=True,\n",
    "        **layer_kwargs,\n",
    "    )\n",
    "\n",
    "\n",
    "def visualize_result(source_cells, target_cells, result, index):\n",
    "    def mask_geoarrow(arr, mask):\n",
    "        shapely_ = geoarrow.to_shapely(arr)\n",
    "        return geoarrow.from_shapely(shapely_[mask])\n",
    "\n",
    "    target = target_cells[index]\n",
    "    mask = result[index, :]\n",
    "    print(\"cells found:\", np.sum(mask))\n",
    "\n",
    "    source = mask_geoarrow(source_cells, mask)\n",
    "    target_cell = _visualize_grid(target, color=\"blue\", alpha=0.8)\n",
    "    selected = _visualize_grid(source, color=\"yellow\", alpha=0.6)\n",
    "    source_grid = _visualize_grid(source_cells, color=\"red\", alpha=0.9)\n",
    "\n",
    "    return lonboard.Map([source_grid, target_cell, selected])"
   ]
  },
  {
   "cell_type": "code",
   "execution_count": null,
   "id": "2",
   "metadata": {},
   "outputs": [],
   "source": [
    "from distributed import Client\n",
    "\n",
    "client = Client()\n",
    "client"
   ]
  },
  {
   "cell_type": "code",
   "execution_count": null,
   "id": "3",
   "metadata": {},
   "outputs": [],
   "source": [
    "source_grid = (\n",
    "    xr.tutorial.open_dataset(\"air_temperature\")\n",
    "    .assign_coords(lon=lambda ds: (ds[\"lon\"] + 180) % 360 - 180)\n",
    "    .isel(lon=slice(None, -1))\n",
    ")\n",
    "source_geoms = grid_indexing.infer_cell_geometries(source_grid)"
   ]
  },
  {
   "cell_type": "raw",
   "id": "4",
   "metadata": {},
   "source": [
    "layer = _visualize_grid(source_geoms, \"red\", alpha=0.6)\n",
    "lonboard.Map([layer])"
   ]
  },
  {
   "cell_type": "code",
   "execution_count": null,
   "id": "5",
   "metadata": {},
   "outputs": [],
   "source": [
    "min_lon = source_grid[\"lon\"].min().item()\n",
    "max_lon = source_grid[\"lon\"].max().item()\n",
    "min_lat = source_grid[\"lat\"].min().item()\n",
    "max_lat = source_grid[\"lat\"].max().item()\n",
    "\n",
    "lon = np.linspace(min_lon, max_lon, 10)\n",
    "lat = np.linspace(min_lat, max_lat, 10)\n",
    "\n",
    "target_grid = xr.Dataset(\n",
    "    coords={\n",
    "        \"lon\": (\"lon\", lon, {\"standard_name\": \"longitude\"}),\n",
    "        \"lat\": (\"lat\", lat, {\"standard_name\": \"latitude\"}),\n",
    "    }\n",
    ")\n",
    "target_geoms = grid_indexing.infer_cell_geometries(target_grid)"
   ]
  },
  {
   "cell_type": "raw",
   "id": "6",
   "metadata": {},
   "source": [
    "layer = _visualize_grid(target_geoms, \"red\", alpha=0.6)\n",
    "lonboard.Map([layer])"
   ]
  },
  {
   "cell_type": "markdown",
   "id": "7",
   "metadata": {},
   "source": [
    "### procedure\n",
    "\n",
    "1. creation of the distributed rtree\n",
    "   - values:\n",
    "        - the cell boundaries as geometries\n",
    "        - and from that, the chunk boundaries\n",
    "    - create and index from the chunk boundaries and save it\n",
    "    - for each chunk of cell boundaries, create an index (as a delayed function? needs to pickle for that, though)\n",
    "2. query the index\n",
    "    - extract the chunk boundaries from the input\n",
    "    - query the chunk boundary index to figure out which chunks a target chunk interacts with\n",
    "    - query the interacting chunk's index\n",
    "    - assemble the result as a sparse matrix\n",
    "\n",
    "### issues\n",
    "\n",
    "- for dask to work, the trees have to be pickle-able\n",
    "- going from a grid of tasks to a concatenated sparse matrix may be tricky"
   ]
  },
  {
   "cell_type": "code",
   "execution_count": null,
   "id": "8",
   "metadata": {},
   "outputs": [],
   "source": [
    "source_geoms_ = np.reshape(geoarrow.to_shapely(source_geoms), (52, 25))\n",
    "chunked_source_geoms = dask.array.from_array(\n",
    "    source_geoms_,\n",
    "    # chunks=(13, 5),\n",
    "    chunks=(-1, -1),\n",
    ")\n",
    "chunked_source_geoms"
   ]
  },
  {
   "cell_type": "code",
   "execution_count": null,
   "id": "9",
   "metadata": {},
   "outputs": [],
   "source": [
    "target_geoms_ = np.reshape(geoarrow.to_shapely(target_geoms), (10, 10))\n",
    "chunked_target_geoms = dask.array.from_array(\n",
    "    target_geoms_,\n",
    "    # chunks=(5, 5),\n",
    "    chunks=(-1, -1),\n",
    ")\n",
    "chunked_target_geoms"
   ]
  },
  {
   "cell_type": "code",
   "execution_count": null,
   "id": "10",
   "metadata": {},
   "outputs": [],
   "source": [
    "dtree = DistributedRTree(chunked_source_geoms)\n",
    "dtree"
   ]
  },
  {
   "cell_type": "code",
   "execution_count": null,
   "id": "11",
   "metadata": {},
   "outputs": [],
   "source": [
    "result = dtree.query_overlap(chunked_target_geoms).compute()\n",
    "result"
   ]
  },
  {
   "cell_type": "raw",
   "id": "12",
   "metadata": {},
   "source": [
    "import dask.array as da"
   ]
  },
  {
   "cell_type": "raw",
   "id": "13",
   "metadata": {},
   "source": [
    "densified = np.array([dask.delayed(lambda x: x.todense())(chunk) for chunk in result.flatten()]).reshape(result.shape)\n",
    "densified"
   ]
  },
  {
   "cell_type": "raw",
   "id": "14",
   "metadata": {},
   "source": [
    "result_ = da.vstack([da.hstack(row) for row in result.tolist()]).compute().todense()\n",
    "result_"
   ]
  },
  {
   "cell_type": "code",
   "execution_count": null,
   "id": "15",
   "metadata": {},
   "outputs": [],
   "source": [
    "result_ = result.todense()"
   ]
  },
  {
   "cell_type": "code",
   "execution_count": null,
   "id": "16",
   "metadata": {},
   "outputs": [],
   "source": [
    "result_ = result.compute()\n",
    "result_.shape"
   ]
  },
  {
   "cell_type": "raw",
   "id": "17",
   "metadata": {},
   "source": [
    "result_ = dask.compute(result)[0].todense()\n",
    "result_"
   ]
  },
  {
   "cell_type": "code",
   "execution_count": null,
   "id": "18",
   "metadata": {},
   "outputs": [],
   "source": [
    "visualize_result(source_geoms, target_geoms, result_, 15)"
   ]
  },
  {
   "cell_type": "code",
   "execution_count": null,
   "id": "19",
   "metadata": {},
   "outputs": [],
   "source": [
    "[source_bounds] = dask.compute(\n",
    "    grid_indexing.distributed.extract_chunk_boundaries(\n",
    "        chunked_source_geoms.to_delayed().flatten()\n",
    "    )\n",
    ")\n",
    "source_bounds"
   ]
  },
  {
   "cell_type": "code",
   "execution_count": null,
   "id": "20",
   "metadata": {},
   "outputs": [],
   "source": [
    "target_bounds = dask.compute(\n",
    "    grid_indexing.distributed.extract_chunk_boundaries(\n",
    "        chunked_target_geoms.to_delayed().flatten()\n",
    "    )\n",
    ")[0]\n",
    "target_bounds"
   ]
  },
  {
   "cell_type": "code",
   "execution_count": null,
   "id": "21",
   "metadata": {},
   "outputs": [],
   "source": [
    "bounds_index = grid_indexing.Index.from_shapely(source_bounds)\n",
    "bounds_index"
   ]
  },
  {
   "cell_type": "code",
   "execution_count": null,
   "id": "22",
   "metadata": {},
   "outputs": [],
   "source": [
    "overlapping_chunks = bounds_index.query_overlap(\n",
    "    geoarrow.from_shapely(target_bounds)\n",
    ").todense()\n",
    "overlapping_chunks"
   ]
  },
  {
   "cell_type": "code",
   "execution_count": null,
   "id": "23",
   "metadata": {},
   "outputs": [],
   "source": [
    "target_bounds_ = geoarrow.from_shapely(target_bounds)\n",
    "source_bounds_ = geoarrow.from_shapely(source_bounds)\n",
    "\n",
    "visualize_result(source_bounds_, target_bounds_, overlapping_chunks, 0)"
   ]
  },
  {
   "cell_type": "code",
   "execution_count": null,
   "id": "24",
   "metadata": {},
   "outputs": [],
   "source": [
    "import sparse\n",
    "\n",
    "source_chunks = chunked_source_geoms.to_delayed().flatten()\n",
    "target_chunks = chunked_target_geoms.to_delayed().flatten()\n",
    "target_grid = grid_indexing.distributed.ChunkGrid.from_dask(chunked_target_geoms)\n",
    "source_grid = dtree.source_grid\n",
    "result_chunks = []\n",
    "target_index = 1\n",
    "\n",
    "target_chunk = dask.compute(target_chunks[target_index])[0]\n",
    "for source_index, mask in enumerate(overlapping_chunks[target_index, :].tolist()):\n",
    "    shape = (target_grid.chunk_size(target_index), source_grid.chunk_size(source_index))\n",
    "    if not mask:\n",
    "        result_chunks.append(sparse.full(shape, dtype=bool, fill_value=False).todense())\n",
    "        continue\n",
    "\n",
    "    index = dask.compute(dtree.chunk_indexes[source_index])[0]\n",
    "    result_chunks.append(\n",
    "        index.query_overlap(geoarrow.from_shapely(target_chunk.flatten())).todense()\n",
    "    )\n",
    "\n",
    "result = np.concatenate(result_chunks, axis=1)\n",
    "result_ = result\n",
    "result_"
   ]
  },
  {
   "cell_type": "code",
   "execution_count": null,
   "id": "25",
   "metadata": {},
   "outputs": [],
   "source": [
    "visualize_result(source_geoms, target_geoms, result_, 10)"
   ]
  },
  {
   "cell_type": "code",
   "execution_count": null,
   "id": "26",
   "metadata": {},
   "outputs": [],
   "source": [
    "import matplotlib.pyplot as plt"
   ]
  },
  {
   "cell_type": "code",
   "execution_count": null,
   "id": "27",
   "metadata": {},
   "outputs": [],
   "source": [
    "tree = grid_indexing.Index(source_geoms)\n",
    "in_memory = tree.query_overlap(target_geoms)\n",
    "in_memory"
   ]
  },
  {
   "cell_type": "code",
   "execution_count": null,
   "id": "28",
   "metadata": {},
   "outputs": [],
   "source": [
    "in_memory_ = in_memory.todense()\n",
    "in_memory_"
   ]
  },
  {
   "cell_type": "code",
   "execution_count": null,
   "id": "29",
   "metadata": {},
   "outputs": [],
   "source": [
    "visualize_result(source_geoms, target_geoms, in_memory_, 46)"
   ]
  },
  {
   "cell_type": "code",
   "execution_count": null,
   "id": "30",
   "metadata": {},
   "outputs": [],
   "source": [
    "actual = result.todense()\n",
    "expected = in_memory.todense()"
   ]
  },
  {
   "cell_type": "code",
   "execution_count": null,
   "id": "31",
   "metadata": {},
   "outputs": [],
   "source": [
    "actual"
   ]
  },
  {
   "cell_type": "code",
   "execution_count": null,
   "id": "32",
   "metadata": {},
   "outputs": [],
   "source": [
    "expected"
   ]
  },
  {
   "cell_type": "code",
   "execution_count": null,
   "id": "33",
   "metadata": {},
   "outputs": [],
   "source": [
    "fig, axes = plt.subplots(ncols=2)\n",
    "axes[0].imshow(actual, cmap=\"viridis\")\n",
    "axes[1].imshow(expected, cmap=\"viridis\")"
   ]
  },
  {
   "cell_type": "code",
   "execution_count": null,
   "id": "34",
   "metadata": {},
   "outputs": [],
   "source": [
    "diff = result.astype(\"int8\") - in_memory.astype(\"int8\")\n",
    "\n",
    "fig, ax = plt.subplots(figsize=(16, 12))\n",
    "ax.imshow(diff.todense(), cmap=\"viridis\")"
   ]
  },
  {
   "cell_type": "code",
   "execution_count": null,
   "id": "35",
   "metadata": {},
   "outputs": [],
   "source": [
    "result"
   ]
  },
  {
   "cell_type": "code",
   "execution_count": null,
   "id": "36",
   "metadata": {},
   "outputs": [],
   "source": [
    "in_memory"
   ]
  }
 ],
 "metadata": {
  "language_info": {
   "codemirror_mode": {
    "name": "ipython",
    "version": 3
   },
   "file_extension": ".py",
   "mimetype": "text/x-python",
   "name": "python",
   "nbconvert_exporter": "python",
   "pygments_lexer": "ipython3",
   "version": "3.12.8"
  }
 },
 "nbformat": 4,
 "nbformat_minor": 5
}
