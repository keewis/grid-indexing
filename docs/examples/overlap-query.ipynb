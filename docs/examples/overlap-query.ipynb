{
 "cells": [
  {
   "cell_type": "code",
   "execution_count": null,
   "id": "0",
   "metadata": {},
   "outputs": [],
   "source": [
    "import numpy as np\n",
    "import xarray as xr\n",
    "\n",
    "import grid_indexing"
   ]
  },
  {
   "cell_type": "code",
   "execution_count": null,
   "id": "1",
   "metadata": {},
   "outputs": [],
   "source": [
    "source = xr.tutorial.open_dataset(\"air_temperature\")\n",
    "source"
   ]
  },
  {
   "cell_type": "code",
   "execution_count": null,
   "id": "2",
   "metadata": {},
   "outputs": [],
   "source": [
    "min_lon = source[\"lon\"].min().item()\n",
    "max_lon = source[\"lon\"].max().item()\n",
    "min_lat = source[\"lat\"].min().item()\n",
    "max_lat = source[\"lat\"].max().item()\n",
    "\n",
    "lon_attrs = {\"standard_name\": \"longitude\"}\n",
    "lat_attrs = {\"standard_name\": \"latitude\"}\n",
    "target = xr.Dataset(\n",
    "    coords={\n",
    "        \"lon\": (\"lon\", np.linspace(min_lon, max_lon, 1200), lon_attrs),\n",
    "        \"lat\": (\"lat\", np.linspace(min_lat, max_lat, 1000), lat_attrs),\n",
    "    }\n",
    ")\n",
    "target"
   ]
  },
  {
   "cell_type": "code",
   "execution_count": null,
   "id": "3",
   "metadata": {},
   "outputs": [],
   "source": [
    "%%time\n",
    "source_cells = grid_indexing.infer_cell_geometries(source)\n",
    "target_cells = grid_indexing.infer_cell_geometries(target)"
   ]
  },
  {
   "cell_type": "code",
   "execution_count": null,
   "id": "4",
   "metadata": {},
   "outputs": [],
   "source": [
    "%%time\n",
    "index = grid_indexing.Index(source_cells)\n",
    "index"
   ]
  },
  {
   "cell_type": "code",
   "execution_count": null,
   "id": "5",
   "metadata": {},
   "outputs": [],
   "source": [
    "%%time\n",
    "overlapping_cells = index.query_overlap(target_cells)\n",
    "overlapping_cells"
   ]
  },
  {
   "cell_type": "code",
   "execution_count": null,
   "id": "6",
   "metadata": {},
   "outputs": [],
   "source": []
  }
 ],
 "metadata": {
  "language_info": {
   "codemirror_mode": {
    "name": "ipython",
    "version": 3
   },
   "file_extension": ".py",
   "mimetype": "text/x-python",
   "name": "python",
   "nbconvert_exporter": "python",
   "pygments_lexer": "ipython3",
   "version": "3.12.8"
  }
 },
 "nbformat": 4,
 "nbformat_minor": 5
}
