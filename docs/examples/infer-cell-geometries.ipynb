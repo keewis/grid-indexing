{
 "cells": [
  {
   "cell_type": "code",
   "execution_count": null,
   "id": "0",
   "metadata": {},
   "outputs": [],
   "source": [
    "import cf_xarray  # noqa: F401\n",
    "import lonboard\n",
    "import xarray as xr\n",
    "\n",
    "from grid_indexing import infer_cell_geometries, infer_grid_type\n",
    "\n",
    "xr.set_options(keep_attrs=True)"
   ]
  },
  {
   "cell_type": "code",
   "execution_count": null,
   "id": "1",
   "metadata": {},
   "outputs": [],
   "source": [
    "def center_longitude(ds):\n",
    "    lon_name = ds.cf.coordinates[\"longitude\"][0]\n",
    "    longitude = (ds[lon_name] + 180) % 360 - 180\n",
    "    return ds.assign_coords({lon_name: longitude})"
   ]
  },
  {
   "cell_type": "code",
   "execution_count": null,
   "id": "2",
   "metadata": {},
   "outputs": [],
   "source": [
    "def visualize_grid(geoms, data, cmap=\"viridis\", alpha=0.8):\n",
    "    from arro3.core import Array, ChunkedArray, Schema, Table\n",
    "    from lonboard.colormap import apply_continuous_cmap\n",
    "    from matplotlib import colormaps\n",
    "    from matplotlib.colors import Normalize\n",
    "\n",
    "    array = Array.from_arrow(geoms)\n",
    "    data_arrow = ChunkedArray([Array.from_numpy(data)])\n",
    "    arrays = {\"geometry\": array, \"data\": data_arrow}\n",
    "    fields = [array.field.with_name(name) for name, array in arrays.items()]\n",
    "    schema = Schema(fields)\n",
    "\n",
    "    table = Table.from_arrays(list(arrays.values()), schema=schema)\n",
    "\n",
    "    normalizer = Normalize(vmin=data.min(skipna=True), vmax=data.max(skipna=True))\n",
    "    normalized = normalizer(data.data)\n",
    "    colormap = colormaps[cmap]\n",
    "    colors = apply_continuous_cmap(normalized, colormap, alpha=alpha)\n",
    "\n",
    "    return lonboard.SolidPolygonLayer(table=table, filled=True, get_fill_color=colors)"
   ]
  },
  {
   "cell_type": "code",
   "execution_count": null,
   "id": "3",
   "metadata": {},
   "outputs": [],
   "source": [
    "preprocessors = {\n",
    "    \"air_temperature\": lambda ds: ds[\"air\"].isel(time=0).stack(cells=[\"lon\", \"lat\"]),\n",
    "    \"rasm\": lambda ds: ds[\"Tair\"].isel(time=0).stack(cells=[\"y\", \"x\"]),\n",
    "    \"ROMS_example\": lambda ds: ds[\"salt\"]\n",
    "    .isel(ocean_time=0, s_rho=0)\n",
    "    .stack(cells=[\"eta_rho\", \"xi_rho\"]),\n",
    "}"
   ]
  },
  {
   "cell_type": "code",
   "execution_count": null,
   "id": "4",
   "metadata": {},
   "outputs": [],
   "source": [
    "datasets = preprocessors.keys()\n",
    "cmaps = {\"ROMS_example\": \"viridis\", \"air_temperature\": \"plasma\", \"rasm\": \"cividis\"}\n",
    "\n",
    "dss = {\n",
    "    name: xr.tutorial.open_dataset(name).pipe(center_longitude)\n",
    "    for name in preprocessors\n",
    "}\n",
    "\n",
    "print(\n",
    "    \"grid types:\",\n",
    "    *[f\"{name}: {infer_grid_type(ds)}\" for name, ds in dss.items()],\n",
    "    sep=\"\\n\",\n",
    ")\n",
    "\n",
    "layers = [\n",
    "    visualize_grid(\n",
    "        infer_cell_geometries(ds), ds.pipe(preprocessors[name]), cmap=cmaps[name]\n",
    "    )\n",
    "    for name, ds in dss.items()\n",
    "]\n",
    "\n",
    "lonboard.Map(layers)"
   ]
  },
  {
   "cell_type": "code",
   "execution_count": null,
   "id": "5",
   "metadata": {},
   "outputs": [],
   "source": []
  }
 ],
 "metadata": {
  "language_info": {
   "codemirror_mode": {
    "name": "ipython",
    "version": 3
   },
   "file_extension": ".py",
   "mimetype": "text/x-python",
   "name": "python",
   "nbconvert_exporter": "python",
   "pygments_lexer": "ipython3",
   "version": "3.12.8"
  }
 },
 "nbformat": 4,
 "nbformat_minor": 5
}
